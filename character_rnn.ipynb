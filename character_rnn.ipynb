{
  "nbformat": 4,
  "nbformat_minor": 0,
  "metadata": {
    "colab": {
      "name": "char_rnn.ipynb",
      "provenance": [],
      "private_outputs": true,
      "collapsed_sections": [],
      "authorship_tag": "ABX9TyOhTClBTuOMOClx/YqQbLvE",
      "include_colab_link": true
    },
    "kernelspec": {
      "name": "python3",
      "display_name": "Python 3"
    },
    "accelerator": "GPU"
  },
  "cells": [
    {
      "cell_type": "markdown",
      "metadata": {
        "id": "view-in-github",
        "colab_type": "text"
      },
      "source": [
        "<a href=\"https://colab.research.google.com/github/shikha-aggarwal/nlp/blob/master/character_rnn.ipynb\" target=\"_parent\"><img src=\"https://colab.research.google.com/assets/colab-badge.svg\" alt=\"Open In Colab\"/></a>"
      ]
    },
    {
      "cell_type": "code",
      "metadata": {
        "id": "Ho5Pwzjh_tAk",
        "colab_type": "code",
        "colab": {}
      },
      "source": [
        "# Thanks to Karpathy! https://gist.github.com/karpathy/d4dee566867f8291f086\n",
        "\n",
        "\n",
        "\"\"\"\n",
        "Minimal character-level Vanilla RNN model. Written by Andrej Karpathy (@karpathy)\n",
        "BSD License\n",
        "\"\"\"\n",
        "import numpy as np\n",
        "from bs4 import BeautifulSoup\n",
        "\n",
        "from google.colab import drive\n",
        "import os\n",
        "import re"
      ],
      "execution_count": null,
      "outputs": []
    },
    {
      "cell_type": "code",
      "metadata": {
        "id": "_b_KfIwv_w3Q",
        "colab_type": "code",
        "colab": {}
      },
      "source": [
        "# data I/O\n",
        "\n",
        "drive.mount(\"/content/drive\") \n",
        "\n",
        "# This directory is simply a dump of htmls using `wget -r http://www.paulgraham.com/articles.html`\n",
        "data_path = \"/content/drive/My Drive/Colab Notebooks/datasets/www.paulgraham.com/\""
      ],
      "execution_count": null,
      "outputs": []
    },
    {
      "cell_type": "code",
      "metadata": {
        "id": "E6SQy_7TEfE2",
        "colab_type": "code",
        "colab": {}
      },
      "source": [
        "# Skip this block on rerun\n",
        "\n",
        "html_text = \"\"\n",
        "\n",
        "for filename in os.listdir(data_path):\n",
        "   with open(os.path.join(data_path, filename), 'r', encoding = 'cp1252') as f:\n",
        "     html_text += f.read()\n",
        "\n",
        "# from here: https://stackoverflow.com/questions/30565404/remove-all-style-scripts-and-html-tags-from-an-html-page/30565420\n",
        "\n",
        "def cleanMe(html):\n",
        "    soup = BeautifulSoup(html, \"html.parser\") # create a new bs4 object from the html data loaded\n",
        "    for script in soup([\"script\", \"style\"]): # remove all javascript and stylesheet code\n",
        "        script.extract()\n",
        "    # get text\n",
        "    text = soup.get_text()\n",
        "    # break into lines and remove leading and trailing space on each\n",
        "    lines = (line.strip() for line in text.splitlines())\n",
        "    # break multi-headlines into a line each\n",
        "    chunks = (phrase.strip() for line in lines for phrase in line.split(\"  \"))\n",
        "    # drop blank lines\n",
        "    text = '\\n'.join(chunk for chunk in chunks if chunk)\n",
        "    return text\n",
        "\n",
        "plain_text = cleanMe(html_text)\n",
        "\n",
        "with open(os.path.join(data_path, 'all_paul_graham.txt'), 'w') as all_data_file:\n",
        "  all_data_file.write(plain_text)"
      ],
      "execution_count": null,
      "outputs": []
    },
    {
      "cell_type": "markdown",
      "metadata": {
        "id": "PDvbQX4cN_fk",
        "colab_type": "text"
      },
      "source": [
        "#### On reruns just load this data file"
      ]
    },
    {
      "cell_type": "code",
      "metadata": {
        "id": "2lIdpMAeNhkS",
        "colab_type": "code",
        "colab": {}
      },
      "source": [
        "with open(os.path.join(data_path, 'all_paul_graham.txt'), 'r') as all_data_file:\n",
        "  data = all_data_file.read()"
      ],
      "execution_count": null,
      "outputs": []
    },
    {
      "cell_type": "code",
      "metadata": {
        "id": "ckXQdmxMD-Wz",
        "colab_type": "code",
        "colab": {}
      },
      "source": [
        "# data = plain_text # should be simple plain text file\n",
        "chars = list(set(data))\n",
        "data_size, vocab_size = len(data), len(chars)\n",
        "print ('data has %d characters, %d unique.' % (data_size, vocab_size))\n",
        "char_to_ix = { ch:i for i,ch in enumerate(chars) }\n",
        "ix_to_char = { i:ch for i,ch in enumerate(chars) }"
      ],
      "execution_count": null,
      "outputs": []
    },
    {
      "cell_type": "code",
      "metadata": {
        "id": "7Re8AJZE_zxn",
        "colab_type": "code",
        "colab": {}
      },
      "source": [
        "# hyperparameters\n",
        "\n",
        "hidden_size = 100 # size of hidden layer of neurons\n",
        "seq_length = 25 # number of steps to unroll the RNN for\n",
        "learning_rate = 1e-1"
      ],
      "execution_count": null,
      "outputs": []
    },
    {
      "cell_type": "code",
      "metadata": {
        "id": "Zm7nPKpb_3Cq",
        "colab_type": "code",
        "colab": {}
      },
      "source": [
        "# model parameters\n",
        "\n",
        "Wxh = np.random.randn(hidden_size, vocab_size) * 0.01 # input to hidden\n",
        "Whh = np.random.randn(hidden_size, hidden_size) * 0.01 # hidden to hidden\n",
        "Why = np.random.randn(vocab_size, hidden_size) * 0.01 # hidden to output\n",
        "bh = np.zeros((hidden_size, 1)) # hidden bias\n",
        "by = np.zeros((vocab_size, 1)) # output bias"
      ],
      "execution_count": null,
      "outputs": []
    },
    {
      "cell_type": "code",
      "metadata": {
        "id": "kC6ldAtk_8xG",
        "colab_type": "code",
        "colab": {}
      },
      "source": [
        "def lossFun(inputs, targets, hprev):\n",
        "  \"\"\"\n",
        "  inputs,targets are both list of integers.\n",
        "  hprev is Hx1 array of initial hidden state\n",
        "  returns the loss, gradients on model parameters, and last hidden state\n",
        "  \"\"\"\n",
        "  xs, hs, ys, ps = {}, {}, {}, {}\n",
        "  hs[-1] = np.copy(hprev)\n",
        "  loss = 0\n",
        "  # forward pass\n",
        "  for t in range(len(inputs)):\n",
        "    xs[t] = np.zeros((vocab_size,1)) # encode in 1-of-k representation\n",
        "    xs[t][inputs[t]] = 1\n",
        "    hs[t] = np.tanh(np.dot(Wxh, xs[t]) + np.dot(Whh, hs[t-1]) + bh) # hidden state\n",
        "    ys[t] = np.dot(Why, hs[t]) + by # unnormalized log probabilities for next chars\n",
        "    ps[t] = np.exp(ys[t]) / np.sum(np.exp(ys[t])) # probabilities for next chars\n",
        "    loss += -np.log(ps[t][targets[t],0]) # softmax (cross-entropy loss)\n",
        "  # backward pass: compute gradients going backwards\n",
        "  dWxh, dWhh, dWhy = np.zeros_like(Wxh), np.zeros_like(Whh), np.zeros_like(Why)\n",
        "  dbh, dby = np.zeros_like(bh), np.zeros_like(by)\n",
        "  dhnext = np.zeros_like(hs[0])\n",
        "  for t in reversed(range(len(inputs))):\n",
        "    dy = np.copy(ps[t])\n",
        "    dy[targets[t]] -= 1 # backprop into y. see http://cs231n.github.io/neural-networks-case-study/#grad if confused here\n",
        "    dWhy += np.dot(dy, hs[t].T)\n",
        "    dby += dy\n",
        "    dh = np.dot(Why.T, dy) + dhnext # backprop into h\n",
        "    dhraw = (1 - hs[t] * hs[t]) * dh # backprop through tanh nonlinearity\n",
        "    dbh += dhraw\n",
        "    dWxh += np.dot(dhraw, xs[t].T)\n",
        "    dWhh += np.dot(dhraw, hs[t-1].T)\n",
        "    dhnext = np.dot(Whh.T, dhraw)\n",
        "  for dparam in [dWxh, dWhh, dWhy, dbh, dby]:\n",
        "    np.clip(dparam, -5, 5, out=dparam) # clip to mitigate exploding gradients\n",
        "  return loss, dWxh, dWhh, dWhy, dbh, dby, hs[len(inputs)-1]"
      ],
      "execution_count": null,
      "outputs": []
    },
    {
      "cell_type": "code",
      "metadata": {
        "id": "Uv0gQKFl_hZa",
        "colab_type": "code",
        "colab": {}
      },
      "source": [
        "def sample(h, seed_ix, n, softmax_temp = 1):\n",
        "  \"\"\" \n",
        "  sample a sequence of integers from the model \n",
        "  h is memory state, seed_ix is seed letter for first time step\n",
        "  \"\"\"\n",
        "  x = np.zeros((vocab_size, 1))\n",
        "  x[seed_ix] = 1\n",
        "  ixes = []\n",
        "  for t in range(n):\n",
        "    h = np.tanh(np.dot(Wxh, x) + np.dot(Whh, h) + bh)\n",
        "    y = np.dot(Why, h) + by\n",
        "    y_temp = y / softmax_temp\n",
        "    # p = np.exp(y) / np.sum(np.exp(y))\n",
        "    p = np.exp(y_temp) / np.sum(np.exp(y_temp))\n",
        "    ix = np.random.choice(range(vocab_size), p=p.ravel())\n",
        "    x = np.zeros((vocab_size, 1))\n",
        "    x[ix] = 1\n",
        "    ixes.append(ix)\n",
        "  return ixes"
      ],
      "execution_count": null,
      "outputs": []
    },
    {
      "cell_type": "code",
      "metadata": {
        "id": "z_J6AtVT_xjX",
        "colab_type": "code",
        "colab": {}
      },
      "source": [
        "# Train\n",
        "\n",
        "n, p = 0, 0\n",
        "mWxh, mWhh, mWhy = np.zeros_like(Wxh), np.zeros_like(Whh), np.zeros_like(Why)\n",
        "mbh, mby = np.zeros_like(bh), np.zeros_like(by) # memory variables for Adagrad\n",
        "smooth_loss = -np.log(1.0/vocab_size)*seq_length # loss at iteration 0\n",
        "while True:\n",
        "  # prepare inputs (we're sweeping from left to right in steps seq_length long)\n",
        "  if p+seq_length+1 >= len(data) or n == 0: \n",
        "    print(\"\\n\\n **** NEW ITERATION!!! **** \\n\\n\")\n",
        "    hprev = np.zeros((hidden_size,1)) # reset RNN memory\n",
        "    p = 0 # go from start of data\n",
        "  inputs = [char_to_ix[ch] for ch in data[p:p+seq_length]]\n",
        "  targets = [char_to_ix[ch] for ch in data[p+1:p+seq_length+1]]\n",
        "\n",
        "  # sample from the model now and then\n",
        "  if n % 10000 == 0:\n",
        "    sample_ix = sample(hprev, inputs[0], 200)\n",
        "    txt = ''.join(ix_to_char[ix] for ix in sample_ix)\n",
        "    print ('----\\n %s \\n----' % (txt, ))\n",
        "\n",
        "  # forward seq_length characters through the net and fetch gradient\n",
        "  loss, dWxh, dWhh, dWhy, dbh, dby, hprev = lossFun(inputs, targets, hprev)\n",
        "  smooth_loss = smooth_loss * 0.999 + loss * 0.001\n",
        "  if n % 10000 == 0: print ('iter %d, loss: %f' % (n, smooth_loss)) # print progress\n",
        "  \n",
        "  # perform parameter update with Adagrad\n",
        "  for param, dparam, mem in zip([Wxh, Whh, Why, bh, by], \n",
        "                                [dWxh, dWhh, dWhy, dbh, dby], \n",
        "                                [mWxh, mWhh, mWhy, mbh, mby]):\n",
        "    mem += dparam * dparam\n",
        "    param += -learning_rate * dparam / np.sqrt(mem + 1e-8) # adagrad update\n",
        "\n",
        "  p += seq_length # move data pointer\n",
        "  n += 1 # iteration counter "
      ],
      "execution_count": null,
      "outputs": []
    },
    {
      "cell_type": "code",
      "metadata": {
        "id": "U_jva9bzD835",
        "colab_type": "code",
        "colab": {}
      },
      "source": [
        "sample_ix = sample(hprev, inputs[0], 2000, softmax_temp = 0.5)\n",
        "txt = ''.join(ix_to_char[ix] for ix in sample_ix)\n",
        "print ('----\\n %s \\n----' % (txt, ))"
      ],
      "execution_count": null,
      "outputs": []
    },
    {
      "cell_type": "markdown",
      "metadata": {
        "id": "tDaq4DAQHlyK",
        "colab_type": "text"
      },
      "source": [
        "### What did the layers learn?"
      ]
    },
    {
      "cell_type": "code",
      "metadata": {
        "id": "b6b8VhMRJoeX",
        "colab_type": "code",
        "colab": {}
      },
      "source": [
        "import string\n",
        "all_alphabet = string.ascii_lowercase\n",
        "\n",
        "for c in list(all_alphabet):\n",
        "  print(char_to_ix[c])"
      ],
      "execution_count": null,
      "outputs": []
    },
    {
      "cell_type": "code",
      "metadata": {
        "id": "gwPJ37T9HsOR",
        "colab_type": "code",
        "colab": {}
      },
      "source": [
        "def probe_layer(h, n, softmax_temp = 1):\n",
        "  \"\"\" \n",
        "  sample a sequence of integers from the model \n",
        "  h is memory state, seed_ix is seed letter for first time step\n",
        "  \"\"\"\n",
        "  first_layer = []\n",
        "  for i in range(vocab_size):\n",
        "    x = np.zeros((vocab_size, 1))\n",
        "    x[i] = 1\n",
        "\n",
        "    hidden_input = np.dot(Wxh, x)\n",
        "\n",
        "      h = np.tanh( + np.dot(Whh, h) + bh)\n",
        "      y = np.dot(Why, h) + by\n",
        "      y_temp = y / softmax_temp\n",
        "      # p = np.exp(y) / np.sum(np.exp(y))\n",
        "      p = np.exp(y_temp) / np.sum(np.exp(y_temp))\n",
        "      ix = np.random.choice(range(vocab_size), p=p.ravel())\n",
        "      x = np.zeros((vocab_size, 1))\n",
        "      x[ix] = 1\n",
        "      ixes.append(ix)\n",
        "    return ixes"
      ],
      "execution_count": null,
      "outputs": []
    }
  ]
}
{
  "nbformat": 4,
  "nbformat_minor": 0,
  "metadata": {
    "colab": {
      "name": "TwitterSentimentAnalysis.ipynb",
      "provenance": [],
      "authorship_tag": "ABX9TyPa/Y9H7rj5zIv0fHFucvry",
      "include_colab_link": true
    },
    "kernelspec": {
      "name": "python3",
      "display_name": "Python 3"
    }
  },
  "cells": [
    {
      "cell_type": "markdown",
      "metadata": {
        "id": "view-in-github",
        "colab_type": "text"
      },
      "source": [
        "<a href=\"https://colab.research.google.com/github/shikha-aggarwal/nlp/blob/master/TwitterSentimentAnalysis.ipynb\" target=\"_parent\"><img src=\"https://colab.research.google.com/assets/colab-badge.svg\" alt=\"Open In Colab\"/></a>"
      ]
    },
    {
      "cell_type": "code",
      "metadata": {
        "id": "zq32uUarjaPR",
        "colab_type": "code",
        "colab": {}
      },
      "source": [
        "import nltk\n",
        "from nltk.corpus import twitter_samples\n",
        "import matplotlib.pyplot as plt"
      ],
      "execution_count": 2,
      "outputs": []
    },
    {
      "cell_type": "code",
      "metadata": {
        "id": "W4azy8xpkC_V",
        "colab_type": "code",
        "colab": {
          "base_uri": "https://localhost:8080/",
          "height": 68
        },
        "outputId": "53ca1192-b300-4cc1-e605-35acfb2c1ad6"
      },
      "source": [
        "nltk.download('twitter_samples')"
      ],
      "execution_count": 3,
      "outputs": [
        {
          "output_type": "stream",
          "text": [
            "[nltk_data] Downloading package twitter_samples to /root/nltk_data...\n",
            "[nltk_data]   Unzipping corpora/twitter_samples.zip.\n"
          ],
          "name": "stdout"
        },
        {
          "output_type": "execute_result",
          "data": {
            "text/plain": [
              "True"
            ]
          },
          "metadata": {
            "tags": []
          },
          "execution_count": 3
        }
      ]
    },
    {
      "cell_type": "code",
      "metadata": {
        "id": "KAUepCKZjtnn",
        "colab_type": "code",
        "colab": {}
      },
      "source": [
        "all_positive_tweets = twitter_samples.strings('positive_tweets.json')\n",
        "all_negative_tweets = twitter_samples.strings('negative_tweets.json')"
      ],
      "execution_count": 4,
      "outputs": []
    },
    {
      "cell_type": "code",
      "metadata": {
        "id": "fRHPfVF1Eh3D",
        "colab_type": "code",
        "colab": {
          "base_uri": "https://localhost:8080/",
          "height": 34
        },
        "outputId": "848c3da9-f674-4f93-879c-84a8ba686801"
      },
      "source": [
        "print(len(all_positive_tweets), len(all_negative_tweets))"
      ],
      "execution_count": 5,
      "outputs": [
        {
          "output_type": "stream",
          "text": [
            "5000 5000\n"
          ],
          "name": "stdout"
        }
      ]
    },
    {
      "cell_type": "code",
      "metadata": {
        "id": "MdzCrdcrFUpG",
        "colab_type": "code",
        "colab": {
          "base_uri": "https://localhost:8080/",
          "height": 303
        },
        "outputId": "76532a33-90ed-4661-aa49-6ae577f9f2df"
      },
      "source": [
        "fig = plt.figure(figsize = (5, 5))\n",
        "\n",
        "labels = ['positives', 'negatives']\n",
        "\n",
        "data = [len(all_positive_tweets), len(all_negative_tweets)]\n",
        "\n",
        "plt.pie(data, labels = labels, autopct='%.2f%%', startangle=90, shadow=True)\n",
        "\n",
        "plt.show()"
      ],
      "execution_count": 6,
      "outputs": [
        {
          "output_type": "display_data",
          "data": {
            "image/png": "[encoded data removed]",
            "text/plain": [
              "<Figure size 360x360 with 1 Axes>"
            ]
          },
          "metadata": {
            "tags": []
          }
        }
      ]
    },
    {
      "cell_type": "code",
      "metadata": {
        "id": "tTdUgFQWGnDL",
        "colab_type": "code",
        "colab": {
          "base_uri": "https://localhost:8080/",
          "height": 68
        },
        "outputId": "6edcdbb1-985f-432e-ec1f-4bac33f9d158"
      },
      "source": [
        "import random\n",
        "\n",
        "print(all_positive_tweets[random.randint(0, len(all_positive_tweets))])\n",
        "\n",
        "print(\"----\")\n",
        "\n",
        "print(all_negative_tweets[random.randint(0, len(all_positive_tweets))])"
      ],
      "execution_count": 7,
      "outputs": [
        {
          "output_type": "stream",
          "text": [
            "@mikestone14  Your tweet is very much appreciated! Thank you for being such a dedicated member :)\n",
            "----\n",
            "Party promotions are over :(\n"
          ],
          "name": "stdout"
        }
      ]
    },
    {
      "cell_type": "markdown",
      "metadata": {
        "id": "wQKNPMNNLhRE",
        "colab_type": "text"
      },
      "source": [
        "**Preprocessing**"
      ]
    },
    {
      "cell_type": "code",
      "metadata": {
        "id": "w958Pty2LfjP",
        "colab_type": "code",
        "colab": {
          "base_uri": "https://localhost:8080/",
          "height": 68
        },
        "outputId": "404d202f-d13a-4e90-94b7-e43aa4076c69"
      },
      "source": [
        "nltk.download('stopwords')"
      ],
      "execution_count": 8,
      "outputs": [
        {
          "output_type": "stream",
          "text": [
            "[nltk_data] Downloading package stopwords to /root/nltk_data...\n",
            "[nltk_data]   Unzipping corpora/stopwords.zip.\n"
          ],
          "name": "stdout"
        },
        {
          "output_type": "execute_result",
          "data": {
            "text/plain": [
              "True"
            ]
          },
          "metadata": {
            "tags": []
          },
          "execution_count": 8
        }
      ]
    },
    {
      "cell_type": "code",
      "metadata": {
        "id": "aedeyJzsUFUx",
        "colab_type": "code",
        "colab": {}
      },
      "source": [
        "from nltk.corpus import stopwords\n",
        "from nltk.stem import PorterStemmer\n",
        "from nltk.tokenize import TweetTokenizer\n",
        "\n",
        "import string\n",
        "import re\n",
        "\n",
        "from collections import defaultdict\n",
        "import numpy as np"
      ],
      "execution_count": 9,
      "outputs": []
    },
    {
      "cell_type": "code",
      "metadata": {
        "id": "eX1HHqBVK8wB",
        "colab_type": "code",
        "colab": {}
      },
      "source": [
        "\n",
        "def preprocess(tweet):\n",
        "  # remove hashtags\n",
        "  tweet_edited = re.sub(r'#', '', tweet)\n",
        "\n",
        "  # remove urls\n",
        "  tweet_edited = re.sub(r'https?:\\/\\/.*[\\r\\n]*', '', tweet_edited)\n",
        "\n",
        "  # remove old style retweet text \"RT\"\n",
        "  tweet_edited = re.sub(r'^RT[\\s]+', '', tweet_edited)\n",
        "\n",
        "  tweet_tokenized = []\n",
        "  stopword_list = stopwords.words('english')\n",
        "  tokenizer = TweetTokenizer(preserve_case=False, reduce_len=True, \n",
        "                             strip_handles=True)\n",
        "  stemmer = PorterStemmer()\n",
        "\n",
        "  for word in tokenizer.tokenize(tweet_edited):\n",
        "    if word not in stopword_list and word not in string.punctuation:\n",
        "      tweet_tokenized.append(stemmer.stem(word))\n",
        "\n",
        "  return tweet_tokenized"
      ],
      "execution_count": 10,
      "outputs": []
    },
    {
      "cell_type": "code",
      "metadata": {
        "id": "HD43Klg-U7ac",
        "colab_type": "code",
        "colab": {}
      },
      "source": [
        "positive_tweets_tokenized = []\n",
        "negative_tweets_tokenized = []\n",
        "for tweet in all_positive_tweets:\n",
        "  positive_tweets_tokenized.append(preprocess(tweet))\n",
        "\n",
        "for tweet in all_negative_tweets:\n",
        "  negative_tweets_tokenized.append(preprocess(tweet))\n"
      ],
      "execution_count": 11,
      "outputs": []
    },
    {
      "cell_type": "code",
      "metadata": {
        "id": "-LC3QAfVU8pw",
        "colab_type": "code",
        "colab": {
          "base_uri": "https://localhost:8080/",
          "height": 51
        },
        "outputId": "bc78b242-941d-44ac-8b18-937af7767612"
      },
      "source": [
        "print(all_positive_tweets[2277])\n",
        "print(positive_tweets_tokenized[2277])"
      ],
      "execution_count": 12,
      "outputs": [
        {
          "output_type": "stream",
          "text": [
            "My beautiful sunflowers on a sunny Friday morning off :) #sunflowers #favourites #happy #Friday off… https://t.co/3tfYom0N1i\n",
            "['beauti', 'sunflow', 'sunni', 'friday', 'morn', ':)', 'sunflow', 'favourit', 'happi', 'friday', '…']\n"
          ],
          "name": "stdout"
        }
      ]
    },
    {
      "cell_type": "code",
      "metadata": {
        "id": "iKLYK2l0XFLP",
        "colab_type": "code",
        "colab": {
          "base_uri": "https://localhost:8080/",
          "height": 51
        },
        "outputId": "bc2d282b-1653-44ef-f033-3f278a5e66e0"
      },
      "source": [
        "print(all_negative_tweets[2277])\n",
        "print(negative_tweets_tokenized[2277])"
      ],
      "execution_count": 13,
      "outputs": [
        {
          "output_type": "stream",
          "text": [
            "okay she doesnt want to talk to me then I will stop :(\n",
            "['okay', 'doesnt', 'want', 'talk', 'stop', ':(']\n"
          ],
          "name": "stdout"
        }
      ]
    },
    {
      "cell_type": "code",
      "metadata": {
        "id": "cl_6LzuUX-As",
        "colab_type": "code",
        "colab": {}
      },
      "source": [
        "frequency_map = defaultdict(lambda : 0)\n",
        "\n",
        "for tweet in positive_tweets_tokenized:\n",
        "  for word in tweet:\n",
        "    frequency_map[(word, 1)] += 1\n",
        "\n",
        "for tweet in negative_tweets_tokenized:\n",
        "  for word in tweet:\n",
        "    frequency_map[(word, 0)] += 1"
      ],
      "execution_count": 14,
      "outputs": []
    },
    {
      "cell_type": "code",
      "metadata": {
        "id": "fwICRXBed_I3",
        "colab_type": "code",
        "colab": {
          "base_uri": "https://localhost:8080/",
          "height": 782
        },
        "outputId": "42d0835e-3230-4037-f13a-057641e2c393"
      },
      "source": [
        "sample_keys = ['happi', 'merri', 'nice', 'good', 'bad', 'sad', 'mad', 'best', 'pretti',\n",
        "        '❤', ':)', ':(', '😒', '😬', '😄', '😍', '♛',\n",
        "        'song', 'idea', 'power', 'play', 'magnific']\n",
        "\n",
        "data = []\n",
        "for key in sample_keys:\n",
        "  data.append((key, frequency_map[(key, 1)], frequency_map[(key, 0)]))\n",
        "\n",
        "fig, ax = plt.subplots(figsize = (12, 12))\n",
        "\n",
        "x = np.log([x[1] + 1 for x in data]) # positives\n",
        "y = np.log([x[2] + 1 for x in data]) # negative count\n",
        "\n",
        "ax.scatter(x, y)\n",
        "\n",
        "plt.xlabel(\"Log positive count\")\n",
        "plt.ylabel(\"Log negative count\")\n",
        "\n",
        "for i in range(len(data)):\n",
        "  ax.annotate(data[i][0], (x[i]+0.05, y[i]+0.05), fontsize=12)\n",
        "\n",
        "ax.plot([0, 9], [0, 9], color='red')\n",
        "plt.show()"
      ],
      "execution_count": 20,
      "outputs": [
        {
          "output_type": "stream",
          "text": [
            "/usr/local/lib/python3.6/dist-packages/matplotlib/backends/backend_agg.py:214: RuntimeWarning: Glyph 128556 missing from current font.\n",
            "  font.set_text(s, 0.0, flags=flags)\n",
            "/usr/local/lib/python3.6/dist-packages/matplotlib/backends/backend_agg.py:183: RuntimeWarning: Glyph 128556 missing from current font.\n",
            "  font.set_text(s, 0, flags=flags)\n"
          ],
          "name": "stderr"
        },
        {
          "output_type": "display_data",
          "data": {
            "image/png": "[encoded data removed]",
            "text/plain": [
              "<Figure size 864x864 with 1 Axes>"
            ]
          },
          "metadata": {
            "tags": [],
            "needs_background": "light"
          }
        }
      ]
    },
    {
      "cell_type": "markdown",
      "metadata": {
        "id": "ecRHe7uKHCqW",
        "colab_type": "text"
      },
      "source": [
        "**Create Tweet feature vectors**"
      ]
    },
    {
      "cell_type": "code",
      "metadata": {
        "id": "I22ChQ_QcpoA",
        "colab_type": "code",
        "colab": {}
      },
      "source": [
        "def get_feature_vector(tokenized_tweet):\n",
        "  pos_count, neg_count = 0, 0\n",
        "  for word in tokenized_tweet:\n",
        "    pos_count += frequency_map[(word, 1)]\n",
        "    neg_count += frequency_map[(word, 0)]\n",
        "  return [1, pos_count, neg_count]"
      ],
      "execution_count": 32,
      "outputs": []
    },
    {
      "cell_type": "code",
      "metadata": {
        "id": "yXkPMaDPICzv",
        "colab_type": "code",
        "colab": {
          "base_uri": "https://localhost:8080/",
          "height": 238
        },
        "outputId": "bca73413-7395-452a-ee83-426014215427"
      },
      "source": [
        "print(all_positive_tweets[2277])\n",
        "print(get_feature_vector(positive_tweets_tokenized[2277]))\n",
        "\n",
        "for word in positive_tweets_tokenized[2277]:\n",
        "  print(frequency_map[(word, 1)], frequency_map[(word, 0)])"
      ],
      "execution_count": 33,
      "outputs": [
        {
          "output_type": "stream",
          "text": [
            "My beautiful sunflowers on a sunny Friday morning off :) #sunflowers #favourites #happy #Friday off… https://t.co/3tfYom0N1i\n",
            "[1, 4223, 119]\n",
            "50 11\n",
            "2 0\n",
            "6 1\n",
            "116 12\n",
            "101 31\n",
            "3568 2\n",
            "2 0\n",
            "13 9\n",
            "211 25\n",
            "116 12\n",
            "38 16\n"
          ],
          "name": "stdout"
        }
      ]
    },
    {
      "cell_type": "markdown",
      "metadata": {
        "id": "_Ov8l8Z5I14R",
        "colab_type": "text"
      },
      "source": [
        "**Partition data into test and train**"
      ]
    },
    {
      "cell_type": "code",
      "metadata": {
        "id": "w8-ei1L4IQKA",
        "colab_type": "code",
        "colab": {}
      },
      "source": [
        "train_X_list = []\n",
        "\n",
        "for tokenized_tweet in positive_tweets_tokenized[:4000]:\n",
        "  train_X_list.append(get_feature_vector(tokenized_tweet))\n",
        "\n",
        "for tokenized_tweet in negative_tweets_tokenized[:4000]:\n",
        "  train_X_list.append(get_feature_vector(tokenized_tweet))\n",
        "\n",
        "train_X = np.array(train_X_list, dtype='float64')\n",
        "train_Y = np.append(np.ones((4000, )), np.zeros((4000, )), axis = 0)\n"
      ],
      "execution_count": 54,
      "outputs": []
    },
    {
      "cell_type": "code",
      "metadata": {
        "id": "gMgIX7LVYdvI",
        "colab_type": "code",
        "colab": {
          "base_uri": "https://localhost:8080/",
          "height": 34
        },
        "outputId": "53e8171a-ce96-401d-d5cf-39fefc62a8ea"
      },
      "source": [
        "print(train_X.shape, train_Y.shape)"
      ],
      "execution_count": 55,
      "outputs": [
        {
          "output_type": "stream",
          "text": [
            "(8000, 3) (8000,)\n"
          ],
          "name": "stdout"
        }
      ]
    },
    {
      "cell_type": "markdown",
      "metadata": {
        "id": "7PpjWFBGZUBX",
        "colab_type": "text"
      },
      "source": [
        "**TRAIN**"
      ]
    },
    {
      "cell_type": "code",
      "metadata": {
        "id": "VeUaTWBIYo-Z",
        "colab_type": "code",
        "colab": {}
      },
      "source": [
        "from sklearn.linear_model import LogisticRegression\n",
        "\n",
        "clf = LogisticRegression(random_state = 0).fit(train_X, train_Y)"
      ],
      "execution_count": 56,
      "outputs": []
    },
    {
      "cell_type": "code",
      "metadata": {
        "id": "HFkeCGBFZO2h",
        "colab_type": "code",
        "colab": {}
      },
      "source": [
        "test_X_list = []\n",
        "\n",
        "for tokenized_tweet in positive_tweets_tokenized[-1000:]:\n",
        "  test_X_list.append(get_feature_vector(tokenized_tweet))\n",
        "\n",
        "for tokenized_tweet in negative_tweets_tokenized[-1000:]:\n",
        "  test_X_list.append(get_feature_vector(tokenized_tweet))\n",
        "\n",
        "test_X = np.array(test_X_list, dtype='float64')\n",
        "test_Y = np.append(np.ones((1000, )), np.zeros((1000, )), axis = 0)\n",
        "\n",
        "test_data = list(zip(test_X, test_Y))\n",
        "random.shuffle(test_data)\n",
        "test_X, test_Y = zip(*test_data)"
      ],
      "execution_count": 59,
      "outputs": []
    },
    {
      "cell_type": "code",
      "metadata": {
        "id": "pClcuhQMbytg",
        "colab_type": "code",
        "colab": {
          "base_uri": "https://localhost:8080/",
          "height": 34
        },
        "outputId": "66da9860-3684-4e65-e26a-c7c4610372b5"
      },
      "source": [
        "clf.score(test_X, test_Y)"
      ],
      "execution_count": 65,
      "outputs": [
        {
          "output_type": "execute_result",
          "data": {
            "text/plain": [
              "0.992"
            ]
          },
          "metadata": {
            "tags": []
          },
          "execution_count": 65
        }
      ]
    },
    {
      "cell_type": "code",
      "metadata": {
        "id": "3o1ynzaFcJwc",
        "colab_type": "code",
        "colab": {
          "base_uri": "https://localhost:8080/",
          "height": 34
        },
        "outputId": "d713ac76-0d0f-4739-bdbc-3de7449bdcc1"
      },
      "source": [
        "clf.coef_"
      ],
      "execution_count": 67,
      "outputs": [
        {
          "output_type": "execute_result",
          "data": {
            "text/plain": [
              "array([[ 0.48571869,  0.00701322, -0.0080829 ]])"
            ]
          },
          "metadata": {
            "tags": []
          },
          "execution_count": 67
        }
      ]
    },
    {
      "cell_type": "code",
      "metadata": {
        "id": "bbcA0Nh-eSTG",
        "colab_type": "code",
        "colab": {
          "base_uri": "https://localhost:8080/",
          "height": 34
        },
        "outputId": "7c203a2c-9610-4c3c-80d8-3fc64bd084e6"
      },
      "source": [
        "theta = clf.coef_.squeeze().tolist()\n",
        "print(theta)"
      ],
      "execution_count": 77,
      "outputs": [
        {
          "output_type": "stream",
          "text": [
            "[0.48571869476652807, 0.007013220421437843, -0.008082900722350617]\n"
          ],
          "name": "stdout"
        }
      ]
    },
    {
      "cell_type": "code",
      "metadata": {
        "id": "__gYVQg-cuhj",
        "colab_type": "code",
        "colab": {}
      },
      "source": [
        "def neg(theta, pos):\n",
        "    return (-theta[0] - pos * theta[1]) / theta[2]\n",
        "\n",
        "def direction(theta, pos):\n",
        "    return    pos * theta[2] / theta[1]"
      ],
      "execution_count": 74,
      "outputs": []
    },
    {
      "cell_type": "code",
      "metadata": {
        "id": "VSFmG7VPg0G8",
        "colab_type": "code",
        "colab": {}
      },
      "source": [
        "theta = [7e-08, 0.0005239, -0.00055517]"
      ],
      "execution_count": 75,
      "outputs": []
    },
    {
      "cell_type": "code",
      "metadata": {
        "id": "RG2dH2_reReU",
        "colab_type": "code",
        "colab": {
          "base_uri": "https://localhost:8080/",
          "height": 497
        },
        "outputId": "14c94107-eafd-4525-f004-aa3bae067e9e"
      },
      "source": [
        "# Plot the samples using columns 1 and 2 of the matrix\n",
        "fig, ax = plt.subplots(figsize = (8, 8))\n",
        "\n",
        "colors = ['red', 'green']\n",
        "\n",
        "# Color base on the sentiment Y\n",
        "ax.scatter(train_X[:,1], train_X[:,2], c=[colors[int(k)] for k in train_Y], s = 0.1)  # Plot a dot for each pair of words\n",
        "plt.xlabel(\"Positive\")\n",
        "plt.ylabel(\"Negative\")\n",
        "\n",
        "# Now lets represent the logistic regression model in this chart. \n",
        "maxpos = np.max(train_X[:,1])\n",
        "\n",
        "offset = 5000 # The pos value for the direction vectors origin\n",
        "\n",
        "# Plot a gray line that divides the 2 areas.\n",
        "ax.plot([0,  maxpos], [neg(theta, 0),   neg(theta, maxpos)], color = 'gray') \n",
        "\n",
        "# Plot a green line pointing to the positive direction\n",
        "ax.arrow(offset, neg(theta, offset), offset, direction(theta, offset), head_width=500, head_length=500, fc='g', ec='g')\n",
        "# Plot a red line pointing to the negative direction\n",
        "ax.arrow(offset, neg(theta, offset), -offset, -direction(theta, offset), head_width=500, head_length=500, fc='r', ec='r')\n",
        "\n",
        "plt.show()"
      ],
      "execution_count": 78,
      "outputs": [
        {
          "output_type": "display_data",
          "data": {
            "image/png": "[encoded data removed]",
            "text/plain": [
              "<Figure size 576x576 with 1 Axes>"
            ]
          },
          "metadata": {
            "tags": [],
            "needs_background": "light"
          }
        }
      ]
    },
    {
      "cell_type": "code",
      "metadata": {
        "id": "N5jouvnflMIG",
        "colab_type": "code",
        "colab": {}
      },
      "source": [
        ""
      ],
      "execution_count": null,
      "outputs": []
    }
  ]
}